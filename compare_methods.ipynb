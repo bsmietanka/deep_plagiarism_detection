{
 "cells": [
  {
   "cell_type": "code",
   "execution_count": 1,
   "metadata": {},
   "outputs": [],
   "source": [
    "import re\n",
    "from functools import reduce\n",
    "from pathlib import Path\n",
    "from multiprocessing import Pool\n",
    "\n",
    "import numpy as np\n",
    "import pandas as pd\n",
    "import seaborn as sns\n",
    "from edit_distance import edit_distance\n",
    "from IPython.display import display\n",
    "from sklearn.metrics import roc_auc_score, roc_curve, precision_score, accuracy_score, average_precision_score, f1_score\n",
    "from tqdm import tqdm\n",
    "\n",
    "from datasets.functions_dataset import FunctionsDataset\n",
    "%matplotlib inline"
   ]
  },
  {
   "cell_type": "code",
   "execution_count": 2,
   "metadata": {},
   "outputs": [],
   "source": [
    "balanced = \"_unbalanced\"\n",
    "# balanced = \"\""
   ]
  },
  {
   "cell_type": "code",
   "execution_count": 3,
   "metadata": {},
   "outputs": [],
   "source": [
    "def rep_len(path: str):\n",
    "    if path.endswith(\".txt\"):\n",
    "        graph = FunctionsDataset.parse_graph(path, return_tensor=False)\n",
    "        return len(graph)\n",
    "    tokens = FunctionsDataset.tokenize(path, return_tensor=False)\n",
    "    return len(tokens)"
   ]
  },
  {
   "cell_type": "code",
   "execution_count": 4,
   "metadata": {},
   "outputs": [],
   "source": [
    "def seq_lens(paths: list):\n",
    "    with Pool() as p:\n",
    "        return np.array(p.map(rep_len, paths))"
   ]
  },
  {
   "cell_type": "code",
   "execution_count": 5,
   "metadata": {},
   "outputs": [],
   "source": [
    "def load_results(data_root):\n",
    "    dfs = []\n",
    "    for pair in tqdm(list(Path(data_root).glob(f\"**/!pairs{balanced}.csv\"))):\n",
    "        df = pd.read_csv(str(pair), names=[\"f1\", \"f2\", \"clone\"])\n",
    "        alpha, n, p, r = pair.parts[-6:-2]\n",
    "        df[\"alpha\"] = alpha\n",
    "        df[\"n\"] = n\n",
    "        df[\"p\"] = p\n",
    "        df[\"r\"] = r\n",
    "        df[\"set\"] = str(pair.parent)\n",
    "#         df[\"len_f1\"] = seq_lens([str(pair.parent / p) for p in df[\"f1\"]])\n",
    "#         df[\"len_f2\"] = seq_lens([str(pair.parent / p) for p in df[\"f2\"]])\n",
    "        same_base = []\n",
    "        pattern = re.compile(r\"\\d*$\")\n",
    "            \n",
    "        for i, row in df.iterrows():\n",
    "            base1 = pattern.split(Path(Path(row.f1).stem).stem)[0]\n",
    "            base2 = pattern.split(Path(Path(row.f2).stem).stem)[0]\n",
    "            if base1 != base2:\n",
    "                same_base.append(0)\n",
    "            else:\n",
    "                same_base.append(1)\n",
    "        df[\"same_base\"] = same_base\n",
    "        for results in pair.parent.glob(f\"!*{balanced}.csv\"):\n",
    "            if results.name in [f\"!pairs{balanced}.csv\", \"!benchmark.csv\"]:\n",
    "                continue\n",
    "            df[results.name] = pd.read_csv(str(results), names=[\"similarity\"]).similarity\n",
    "        dfs.append(df)\n",
    "    return pd.concat(dfs, ignore_index=True)"
   ]
  },
  {
   "cell_type": "code",
   "execution_count": 6,
   "metadata": {},
   "outputs": [
    {
     "name": "stderr",
     "output_type": "stream",
     "text": [
      "100%|███████████████████████████████████████████████████████████████████████████████████████████████████████████████████████████████████████████████████████████████████████████████████████████████████████████████| 1080/1080 [07:25<00:00,  2.43it/s]\n"
     ]
    }
   ],
   "source": [
    "token_results = load_results(\"data/text\")"
   ]
  },
  {
   "cell_type": "code",
   "execution_count": 7,
   "metadata": {},
   "outputs": [
    {
     "name": "stderr",
     "output_type": "stream",
     "text": [
      "100%|███████████████████████████████████████████████████████████████████████████████████████████████████████████████████████████████████████████████████████████████████████████████████████████████████████████████| 1080/1080 [07:33<00:00,  2.38it/s]\n"
     ]
    }
   ],
   "source": [
    "graph_results = load_results(\"data/graphs\")"
   ]
  },
  {
   "cell_type": "code",
   "execution_count": 40,
   "metadata": {},
   "outputs": [],
   "source": [
    "# token_results[\"len_diff\"] = (token_results[\"len_f1\"] - token_results[\"len_f2\"]).abs()\n",
    "# graph_results[\"len_diff\"] = (graph_results[\"len_f1\"] - graph_results[\"len_f2\"]).abs()"
   ]
  },
  {
   "cell_type": "code",
   "execution_count": 8,
   "metadata": {},
   "outputs": [],
   "source": [
    "token_results.rename(columns={f\"!lstm_epoch=17-step=17999.ckpt{balanced}.csv\": \"classifier\",\n",
    "                              f\"!lstm_epoch=24-step=24324.ckpt{balanced}.csv\": \"encoder\",\n",
    "                              f\"!gst{balanced}.csv\": \"gst\"}, inplace=True)\n",
    "drop_cols = [col_name for col_name in token_results.columns if \"!\" in col_name]\n",
    "token_results.drop(columns=drop_cols, inplace=True)\n",
    "token_similarity_cols = [\"classifier\", \"encoder\", \"gst\"]\n",
    "\n",
    "graph_results.rename(columns={f\"!gnn_epoch=10-step=1836.ckpt{balanced}.csv\": \"classifier\",\n",
    "                              f\"!gnn_epoch=34-step=5704.ckpt{balanced}.csv\": \"encoder\",\n",
    "                              f\"!wlk{balanced}.csv\": \"wlk\"}, inplace=True)\n",
    "drop_cols = [col_name for col_name in graph_results.columns if \"!\" in col_name]\n",
    "graph_results.drop(columns=drop_cols, inplace=True)\n",
    "graph_similarity_cols = [\"classifier\", \"encoder\", \"wlk\"]\n",
    "groupby_cols = [\"alpha\", \"n\", \"p\", \"r\"]"
   ]
  },
  {
   "cell_type": "code",
   "execution_count": 9,
   "metadata": {},
   "outputs": [
    {
     "name": "stdout",
     "output_type": "stream",
     "text": [
      "classifier : 0.9507523445519757\n",
      "encoder : 0.9433003376557231\n",
      "gst : 0.9246948143784534\n"
     ]
    }
   ],
   "source": [
    "for col_name in token_similarity_cols:\n",
    "    print(col_name, \":\", average_precision_score(token_results[\"clone\"], token_results[col_name]))"
   ]
  },
  {
   "cell_type": "code",
   "execution_count": 10,
   "metadata": {},
   "outputs": [
    {
     "name": "stdout",
     "output_type": "stream",
     "text": [
      "classifier : 0.9417343458157895\n",
      "encoder : 0.9220327476860901\n",
      "wlk : 0.9226952865718876\n"
     ]
    }
   ],
   "source": [
    "for col_name in graph_similarity_cols:\n",
    "    print(col_name, \":\", average_precision_score(graph_results[\"clone\"], graph_results[col_name]))"
   ]
  },
  {
   "cell_type": "code",
   "execution_count": 11,
   "metadata": {},
   "outputs": [],
   "source": [
    "pd.to_pickle(token_results, f\"token_results{balanced}.pkl\")\n",
    "pd.to_pickle(graph_results, f\"graph_results{balanced}.pkl\")"
   ]
  },
  {
   "cell_type": "code",
   "execution_count": 45,
   "metadata": {},
   "outputs": [],
   "source": [
    "token_results = pd.read_pickle(f\"token_results{balanced}.pkl\")\n",
    "graph_results = pd.read_pickle(f\"graph_results{balanced}.pkl\")"
   ]
  },
  {
   "cell_type": "code",
   "execution_count": 12,
   "metadata": {},
   "outputs": [],
   "source": [
    "def metric_by_set(results_df, method, metric_fun = average_precision_score):\n",
    "    ret = results_df.groupby(groupby_cols).apply(\n",
    "                    lambda sub_df: metric_fun(sub_df[\"clone\"], sub_df[method])\n",
    "                    ).to_frame().reset_index()\n",
    "    ret = ret.rename(columns={0: method})\n",
    "    return ret"
   ]
  },
  {
   "cell_type": "code",
   "execution_count": 13,
   "metadata": {},
   "outputs": [],
   "source": [
    "def metrics_on_each_set(results_df, methods, metric_fun = average_precision_score):\n",
    "    dfs = [metric_by_set(results_df, method, metric_fun) for method in methods]\n",
    "    ret = reduce(lambda left, right: pd.merge(left, right, on=groupby_cols, how='inner'), dfs)\n",
    "#     ret = pd.concat([ret, ret[\"set\"].str.split(\"/\", expand=True)[[2, 3, 4, 5]]], axis=\"columns\")\n",
    "#     ret = ret.rename(columns={2: \"alpha\", 3: \"n\", 4: \"p\", 5: \"r\"})\n",
    "    # ret[\"alpha\"], ret[\"n\"], ret[\"p\"], ret[\"r\"] = \n",
    "    return ret"
   ]
  },
  {
   "cell_type": "code",
   "execution_count": 14,
   "metadata": {},
   "outputs": [],
   "source": [
    "graph_metrics  = metrics_on_each_set(graph_results, graph_similarity_cols)\n",
    "token_metrics = metrics_on_each_set(token_results, token_similarity_cols)"
   ]
  },
  {
   "cell_type": "code",
   "execution_count": 15,
   "metadata": {},
   "outputs": [],
   "source": [
    "def metric_by_param(metrics, param: str, methods):\n",
    "    std = metrics.groupby(param).std()\n",
    "    table = metrics.groupby(param).mean()\n",
    "    means = table[methods].values\n",
    "    bold_max = np.argmax(means, axis=1)\n",
    "    for m in methods:\n",
    "        table[m] = table[m].map(\"{:.3f}\".format) + \" ± \" + std[m].map(\"{:.3f}\".format)\n",
    "    vals = table[methods].values\n",
    "    for row, col in enumerate(bold_max):\n",
    "        vals[row, col] = \"\\textbf{\" + table[methods].values[row, col] + \"}\"\n",
    "    table[methods] = vals\n",
    "    return table"
   ]
  },
  {
   "cell_type": "code",
   "execution_count": 16,
   "metadata": {},
   "outputs": [],
   "source": [
    "def metric_by_all_params(metrics, methods):\n",
    "    params = [\"p\", \"n\", \"r\", \"alpha\"]\n",
    "    for param in params:\n",
    "        display(metric_by_param(metrics, param, methods))"
   ]
  },
  {
   "cell_type": "code",
   "execution_count": 17,
   "metadata": {},
   "outputs": [],
   "source": [
    "token_metrics[\"modality\"] = \"tokens\"\n",
    "graph_metrics[\"modality\"] = \"graphs\"\n",
    "all_metrics = pd.concat([token_metrics, graph_metrics])"
   ]
  },
  {
   "cell_type": "code",
   "execution_count": 18,
   "metadata": {},
   "outputs": [],
   "source": [
    "vals = []\n",
    "for i, row in token_metrics.iterrows():\n",
    "    for m in [\"gst\", \"classifier\", \"encoder\"]:\n",
    "        vals.append({\n",
    "            \"modality\": \"tokens\",\n",
    "            \"alpha\": row[\"alpha\"],\n",
    "            \"n\": row[\"n\"],\n",
    "            \"p\": row[\"p\"],\n",
    "            \"r\": row[\"r\"],\n",
    "            \"method\": m,\n",
    "            \"ap\": row[m]\n",
    "        })\n",
    "for i, row in graph_metrics.iterrows():\n",
    "    for m in [\"wlk\", \"classifier\", \"encoder\"]:\n",
    "        vals.append({\n",
    "            \"modality\": \"graphs\",\n",
    "            \"alpha\": row[\"alpha\"],\n",
    "            \"n\": row[\"n\"],\n",
    "            \"p\": row[\"p\"],\n",
    "            \"r\": row[\"r\"],\n",
    "            \"method\": m,\n",
    "            \"ap\": row[m]\n",
    "        })\n",
    "all_metrics = pd.DataFrame(vals)"
   ]
  },
  {
   "cell_type": "code",
   "execution_count": 22,
   "metadata": {},
   "outputs": [],
   "source": [
    "from scipy.stats import ttest_ind_from_stats, wilcoxon\n",
    "\n",
    "def max_wilcoxon_mask(df, param):\n",
    "    statistical_max = []\n",
    "    for modality, modality_group in df.groupby(\"modality\"):\n",
    "        for param_val, param_group in modality_group.groupby(param):\n",
    "            best_group = None\n",
    "            best_median = 0\n",
    "            best_method = None\n",
    "            for method, method_group in param_group.groupby(\"method\"):\n",
    "                if method_group[\"ap\"].median() > best_median:\n",
    "                    best_median = method_group[\"ap\"].median()\n",
    "                    best_group = method_group\n",
    "                    best_method = method\n",
    "            for method, method_group in param_group.groupby(\"method\"):\n",
    "                if best_method != method:\n",
    "                    test_res = wilcoxon(best_group[\"ap\"], method_group[\"ap\"])\n",
    "                    alpha = 0.05\n",
    "                    if test_res[1] < alpha:\n",
    "                        stat_max = False\n",
    "                    else:\n",
    "                        stat_max = True\n",
    "                else:\n",
    "                    stat_max = True\n",
    "                statistical_max.append({\n",
    "                    param: param_val,\n",
    "                    \"modality\": modality,\n",
    "                    \"method\": method,\n",
    "                    \"stat_max\": stat_max\n",
    "                })\n",
    "    return pd.DataFrame(statistical_max)\n",
    "\n",
    "def max_mask(df, param, separate):\n",
    "    statistical_max = []\n",
    "    for separation_name, group in df.groupby(separate):\n",
    "        for row_name, row_group in group.groupby(param):\n",
    "            idx_max = row_group[\"mean\"].idxmax()\n",
    "            max_mean, max_std, max_count = row_group.loc[idx_max][[\"mean\", \"std\", \"count\"]]\n",
    "            for idx, row in row_group.iterrows():\n",
    "                t_check = ttest_ind_from_stats(max_mean, max_std * 0.915, max_count * 10,\n",
    "                                               row[\"mean\"], row[\"std\"] * 0.915, row[\"count\"] * 10)\n",
    "                alpha = 0.1\n",
    "#                 print(t_check)\n",
    "                if(t_check[1] < alpha):\n",
    "                    stat_max = False\n",
    "                else:\n",
    "                    stat_max = True\n",
    "#                 if idx == idx_max:\n",
    "#                     stat_max = True\n",
    "#                 else:\n",
    "#                     stat_max = False\n",
    "                statistical_max.append({\n",
    "                    \"index\": idx,\n",
    "                    \"stat_max\": stat_max\n",
    "                })\n",
    "    return pd.DataFrame(statistical_max).set_index(\"index\")"
   ]
  },
  {
   "cell_type": "code",
   "execution_count": 23,
   "metadata": {},
   "outputs": [],
   "source": [
    "def aps(all_metrics, param):\n",
    "    aps_by_param = all_metrics.groupby([param, \"modality\", \"method\"], as_index=False).ap.agg({\"median\": \"median\", \"std\": \"std\", \"count\": \"count\"})\n",
    "    \n",
    "#     m = max_mask(aps_by_param, param, \"modality\")\n",
    "#     aps_by_param = aps_by_param.join(m)\n",
    "    \n",
    "    m = max_wilcoxon_mask(all_metrics, param)\n",
    "    aps_by_param = aps_by_param.merge(m, on=[param, \"modality\", \"method\"])\n",
    "#     aps_by_param[\"std\"] *= 0.915\n",
    "    aps_by_param[\"ap\"] = aps_by_param[\"median\"].map(\"{:.3f}\".format) + \" ± \" + aps_by_param[\"std\"].map(\"{:.3f}\".format)\n",
    "    def format_str(row):\n",
    "        if row[\"stat_max\"]:\n",
    "            return r\"\\textbf{\" + row[\"ap\"] + \"}\"\n",
    "        return row[\"ap\"]\n",
    "    aps_by_param[\"ap\"] = aps_by_param.apply(format_str, axis=\"columns\")\n",
    "    return aps_by_param.pivot(index=param, columns=[\"modality\",\"method\"], values=\"ap\")"
   ]
  },
  {
   "cell_type": "code",
   "execution_count": 24,
   "metadata": {},
   "outputs": [
    {
     "name": "stdout",
     "output_type": "stream",
     "text": [
      "\n",
      "%%%%% p %%%%%\n",
      "\n",
      "\n",
      "\\begin{table}\n",
      "\\caption{}\n",
      "\\label{table:results_p}\n",
      "\\centering\n",
      "\\begin{tabular}{l|rrr|rrr}\n",
      "\\toprule\n",
      "modality & \\multicolumn{3}{l}{graphs} & \\multicolumn{3}{l}{tokens} \\\\\n",
      "method &              classifier &        encoder &            wlk &              classifier &        encoder &            gst \\\\\n",
      "p      &                         &                &                &                         &                &                \\\\\n",
      "\\midrule\n",
      "p=0.05 &  \\textbf{0.962 ± 0.047} &  0.950 ± 0.060 &  0.948 ± 0.052 &  \\textbf{0.967 ± 0.042} &  0.960 ± 0.052 &  0.951 ± 0.046 \\\\\n",
      "p=0.1  &  \\textbf{0.956 ± 0.038} &  0.942 ± 0.043 &  0.942 ± 0.053 &  \\textbf{0.968 ± 0.033} &  0.962 ± 0.040 &  0.941 ± 0.044 \\\\\n",
      "p=0.25 &  \\textbf{0.958 ± 0.040} &  0.923 ± 0.046 &  0.923 ± 0.050 &  \\textbf{0.962 ± 0.032} &  0.956 ± 0.039 &  0.915 ± 0.046 \\\\\n",
      "\\bottomrule\n",
      "\\end{tabular}\n",
      "\\end{table}\n",
      "\n",
      "%%%%% alpha %%%%%\n",
      "\n",
      "\n",
      "\\begin{table}\n",
      "\\caption{}\n",
      "\\label{table:results_alpha}\n",
      "\\centering\n",
      "\\begin{tabular}{l|rrr|rrr}\n",
      "\\toprule\n",
      "modality & \\multicolumn{3}{l}{graphs} & \\multicolumn{3}{l}{tokens} \\\\\n",
      "method &              classifier &        encoder &            wlk &              classifier &        encoder &            gst \\\\\n",
      "alpha     &                         &                &                &                         &                &                \\\\\n",
      "\\midrule\n",
      "alpha=1.0 &  \\textbf{0.936 ± 0.048} &  0.907 ± 0.058 &  0.910 ± 0.058 &  \\textbf{0.940 ± 0.042} &  0.931 ± 0.055 &  0.918 ± 0.055 \\\\\n",
      "alpha=1.5 &  \\textbf{0.960 ± 0.035} &  0.940 ± 0.042 &  0.935 ± 0.047 &  \\textbf{0.964 ± 0.030} &  0.961 ± 0.034 &  0.929 ± 0.041 \\\\\n",
      "alpha=2.0 &  \\textbf{0.972 ± 0.031} &  0.949 ± 0.040 &  0.952 ± 0.042 &  \\textbf{0.974 ± 0.025} &  0.973 ± 0.026 &  0.953 ± 0.037 \\\\\n",
      "\\bottomrule\n",
      "\\end{tabular}\n",
      "\\end{table}\n",
      "\n",
      "%%%%% r %%%%%\n",
      "\n",
      "\n",
      "\\begin{table}\n",
      "\\caption{}\n",
      "\\label{table:results_r}\n",
      "\\centering\n",
      "\\begin{tabular}{l|rrr|rrr}\n",
      "\\toprule\n",
      "modality & \\multicolumn{3}{l}{graphs} & \\multicolumn{3}{l}{tokens} \\\\\n",
      "method &              classifier &        encoder &            wlk &              classifier &                 encoder &            gst \\\\\n",
      "r      &                         &                &                &                         &                         &                \\\\\n",
      "\\midrule\n",
      "r=0.1  &  \\textbf{0.918 ± 0.052} &  0.874 ± 0.066 &  0.870 ± 0.063 &  \\textbf{0.914 ± 0.050} &           0.894 ± 0.067 &  0.869 ± 0.065 \\\\\n",
      "r=0.2  &  \\textbf{0.955 ± 0.044} &  0.924 ± 0.051 &  0.927 ± 0.056 &  \\textbf{0.963 ± 0.033} &           0.954 ± 0.041 &  0.918 ± 0.043 \\\\\n",
      "r=0.25 &  \\textbf{0.972 ± 0.027} &  0.953 ± 0.031 &  0.959 ± 0.030 &  \\textbf{0.982 ± 0.020} &  \\textbf{0.977 ± 0.020} &  0.956 ± 0.026 \\\\\n",
      "r=0.3  &  \\textbf{0.959 ± 0.037} &  0.940 ± 0.043 &  0.935 ± 0.047 &  \\textbf{0.964 ± 0.031} &           0.953 ± 0.034 &  0.936 ± 0.043 \\\\\n",
      "r=0.35 &  \\textbf{0.965 ± 0.029} &  0.951 ± 0.033 &  0.944 ± 0.042 &  \\textbf{0.966 ± 0.025} &  \\textbf{0.966 ± 0.028} &  0.927 ± 0.031 \\\\\n",
      "r=0.4  &  \\textbf{0.969 ± 0.022} &  0.948 ± 0.027 &  0.966 ± 0.032 &  \\textbf{0.976 ± 0.023} &  \\textbf{0.970 ± 0.022} &  0.959 ± 0.028 \\\\\n",
      "\\bottomrule\n",
      "\\end{tabular}\n",
      "\\end{table}\n",
      "\n",
      "%%%%% n %%%%%\n",
      "\n",
      "\n",
      "\\begin{table}\n",
      "\\caption{}\n",
      "\\label{table:results_n}\n",
      "\\centering\n",
      "\\begin{tabular}{l|rrr|rrr}\n",
      "\\toprule\n",
      "modality & \\multicolumn{3}{l}{graphs} & \\multicolumn{3}{l}{tokens} \\\\\n",
      "method &              classifier &        encoder &            wlk &              classifier &                 encoder &            gst \\\\\n",
      "n      &                         &                &                &                         &                         &                \\\\\n",
      "\\midrule\n",
      "n=1000 &  \\textbf{0.974 ± 0.016} &  0.961 ± 0.026 &  0.968 ± 0.023 &  \\textbf{0.981 ± 0.012} &           0.977 ± 0.017 &  0.958 ± 0.028 \\\\\n",
      "n=200  &  \\textbf{0.946 ± 0.033} &  0.927 ± 0.038 &  0.927 ± 0.038 &           0.951 ± 0.028 &  \\textbf{0.951 ± 0.033} &  0.928 ± 0.033 \\\\\n",
      "n=50   &  \\textbf{0.895 ± 0.042} &  0.885 ± 0.057 &  0.876 ± 0.054 &  \\textbf{0.917 ± 0.036} &           0.912 ± 0.049 &  0.885 ± 0.053 \\\\\n",
      "n=500  &  \\textbf{0.968 ± 0.016} &  0.953 ± 0.025 &  0.957 ± 0.028 &  \\textbf{0.971 ± 0.017} &           0.970 ± 0.021 &  0.950 ± 0.029 \\\\\n",
      "\\bottomrule\n",
      "\\end{tabular}\n",
      "\\end{table}\n"
     ]
    },
    {
     "name": "stderr",
     "output_type": "stream",
     "text": [
      "/tmp/ipykernel_507284/2726546668.py:9: FutureWarning: In future versions `DataFrame.to_latex` is expected to utilise the base implementation of `Styler.to_latex` for formatting and rendering. The arguments signature may therefore change. It is recommended instead to use `DataFrame.style.to_latex` which also contains additional functionality.\n",
      "  table = prefix + aps(all_metrics, param).to_latex(escape=False) + suffix\n",
      "/tmp/ipykernel_507284/2726546668.py:9: FutureWarning: In future versions `DataFrame.to_latex` is expected to utilise the base implementation of `Styler.to_latex` for formatting and rendering. The arguments signature may therefore change. It is recommended instead to use `DataFrame.style.to_latex` which also contains additional functionality.\n",
      "  table = prefix + aps(all_metrics, param).to_latex(escape=False) + suffix\n",
      "/tmp/ipykernel_507284/2726546668.py:9: FutureWarning: In future versions `DataFrame.to_latex` is expected to utilise the base implementation of `Styler.to_latex` for formatting and rendering. The arguments signature may therefore change. It is recommended instead to use `DataFrame.style.to_latex` which also contains additional functionality.\n",
      "  table = prefix + aps(all_metrics, param).to_latex(escape=False) + suffix\n",
      "/tmp/ipykernel_507284/2726546668.py:9: FutureWarning: In future versions `DataFrame.to_latex` is expected to utilise the base implementation of `Styler.to_latex` for formatting and rendering. The arguments signature may therefore change. It is recommended instead to use `DataFrame.style.to_latex` which also contains additional functionality.\n",
      "  table = prefix + aps(all_metrics, param).to_latex(escape=False) + suffix\n"
     ]
    }
   ],
   "source": [
    "def prefix_format(param):\n",
    "    return \"\\\\begin{table}\\n\\\\caption{}\\n\\\\label{table:\" + \"results_\" + param + \"}\\n\\\\centering\\n\"\n",
    "\n",
    "suffix = \"\\\\end{table}\"\n",
    "\n",
    "for param in [\"p\", \"alpha\", \"r\", \"n\"]:\n",
    "    print(f\"\\n%%%%% {param} %%%%%\\n\\n\")\n",
    "    prefix = prefix_format(param)\n",
    "    table = prefix + aps(all_metrics, param).to_latex(escape=False) + suffix\n",
    "    print(table.replace(\"lllllll\", \"l|rrr|rrr\"))"
   ]
  },
  {
   "cell_type": "code",
   "execution_count": 82,
   "metadata": {},
   "outputs": [
    {
     "data": {
      "text/html": [
       "<div>\n",
       "<style scoped>\n",
       "    .dataframe tbody tr th:only-of-type {\n",
       "        vertical-align: middle;\n",
       "    }\n",
       "\n",
       "    .dataframe tbody tr th {\n",
       "        vertical-align: top;\n",
       "    }\n",
       "\n",
       "    .dataframe thead th {\n",
       "        text-align: right;\n",
       "    }\n",
       "</style>\n",
       "<table border=\"1\" class=\"dataframe\">\n",
       "  <thead>\n",
       "    <tr style=\"text-align: right;\">\n",
       "      <th></th>\n",
       "      <th>alpha</th>\n",
       "      <th>n</th>\n",
       "      <th>p</th>\n",
       "      <th>r</th>\n",
       "      <th>classifier</th>\n",
       "      <th>encoder</th>\n",
       "      <th>gst</th>\n",
       "      <th>modality</th>\n",
       "      <th>wlk</th>\n",
       "    </tr>\n",
       "  </thead>\n",
       "  <tbody>\n",
       "    <tr>\n",
       "      <th>0</th>\n",
       "      <td>alpha=1.0</td>\n",
       "      <td>n=1000</td>\n",
       "      <td>p=0.05</td>\n",
       "      <td>r=0.1</td>\n",
       "      <td>0.972963</td>\n",
       "      <td>0.933783</td>\n",
       "      <td>0.953410</td>\n",
       "      <td>tokens</td>\n",
       "      <td>NaN</td>\n",
       "    </tr>\n",
       "    <tr>\n",
       "      <th>1</th>\n",
       "      <td>alpha=1.0</td>\n",
       "      <td>n=1000</td>\n",
       "      <td>p=0.05</td>\n",
       "      <td>r=0.2</td>\n",
       "      <td>0.963758</td>\n",
       "      <td>0.957740</td>\n",
       "      <td>0.956305</td>\n",
       "      <td>tokens</td>\n",
       "      <td>NaN</td>\n",
       "    </tr>\n",
       "    <tr>\n",
       "      <th>2</th>\n",
       "      <td>alpha=1.0</td>\n",
       "      <td>n=1000</td>\n",
       "      <td>p=0.1</td>\n",
       "      <td>r=0.1</td>\n",
       "      <td>0.916806</td>\n",
       "      <td>0.906320</td>\n",
       "      <td>0.907884</td>\n",
       "      <td>tokens</td>\n",
       "      <td>NaN</td>\n",
       "    </tr>\n",
       "    <tr>\n",
       "      <th>3</th>\n",
       "      <td>alpha=1.0</td>\n",
       "      <td>n=1000</td>\n",
       "      <td>p=0.1</td>\n",
       "      <td>r=0.2</td>\n",
       "      <td>0.992022</td>\n",
       "      <td>0.993386</td>\n",
       "      <td>0.993947</td>\n",
       "      <td>tokens</td>\n",
       "      <td>NaN</td>\n",
       "    </tr>\n",
       "    <tr>\n",
       "      <th>4</th>\n",
       "      <td>alpha=1.0</td>\n",
       "      <td>n=1000</td>\n",
       "      <td>p=0.25</td>\n",
       "      <td>r=0.1</td>\n",
       "      <td>0.985527</td>\n",
       "      <td>0.990380</td>\n",
       "      <td>0.972858</td>\n",
       "      <td>tokens</td>\n",
       "      <td>NaN</td>\n",
       "    </tr>\n",
       "    <tr>\n",
       "      <th>...</th>\n",
       "      <td>...</td>\n",
       "      <td>...</td>\n",
       "      <td>...</td>\n",
       "      <td>...</td>\n",
       "      <td>...</td>\n",
       "      <td>...</td>\n",
       "      <td>...</td>\n",
       "      <td>...</td>\n",
       "      <td>...</td>\n",
       "    </tr>\n",
       "    <tr>\n",
       "      <th>79</th>\n",
       "      <td>alpha=2.0</td>\n",
       "      <td>n=500</td>\n",
       "      <td>p=0.05</td>\n",
       "      <td>r=0.2</td>\n",
       "      <td>0.987421</td>\n",
       "      <td>0.994967</td>\n",
       "      <td>NaN</td>\n",
       "      <td>graphs</td>\n",
       "      <td>0.995577</td>\n",
       "    </tr>\n",
       "    <tr>\n",
       "      <th>80</th>\n",
       "      <td>alpha=2.0</td>\n",
       "      <td>n=500</td>\n",
       "      <td>p=0.1</td>\n",
       "      <td>r=0.1</td>\n",
       "      <td>0.986146</td>\n",
       "      <td>0.958328</td>\n",
       "      <td>NaN</td>\n",
       "      <td>graphs</td>\n",
       "      <td>0.953817</td>\n",
       "    </tr>\n",
       "    <tr>\n",
       "      <th>81</th>\n",
       "      <td>alpha=2.0</td>\n",
       "      <td>n=500</td>\n",
       "      <td>p=0.1</td>\n",
       "      <td>r=0.2</td>\n",
       "      <td>0.970912</td>\n",
       "      <td>0.977195</td>\n",
       "      <td>NaN</td>\n",
       "      <td>graphs</td>\n",
       "      <td>0.966396</td>\n",
       "    </tr>\n",
       "    <tr>\n",
       "      <th>82</th>\n",
       "      <td>alpha=2.0</td>\n",
       "      <td>n=500</td>\n",
       "      <td>p=0.25</td>\n",
       "      <td>r=0.1</td>\n",
       "      <td>0.992470</td>\n",
       "      <td>0.991222</td>\n",
       "      <td>NaN</td>\n",
       "      <td>graphs</td>\n",
       "      <td>0.946094</td>\n",
       "    </tr>\n",
       "    <tr>\n",
       "      <th>83</th>\n",
       "      <td>alpha=2.0</td>\n",
       "      <td>n=500</td>\n",
       "      <td>p=0.25</td>\n",
       "      <td>r=0.2</td>\n",
       "      <td>0.974658</td>\n",
       "      <td>0.829515</td>\n",
       "      <td>NaN</td>\n",
       "      <td>graphs</td>\n",
       "      <td>0.969199</td>\n",
       "    </tr>\n",
       "  </tbody>\n",
       "</table>\n",
       "<p>168 rows × 9 columns</p>\n",
       "</div>"
      ],
      "text/plain": [
       "        alpha       n       p      r  classifier   encoder       gst modality  \\\n",
       "0   alpha=1.0  n=1000  p=0.05  r=0.1    0.972963  0.933783  0.953410   tokens   \n",
       "1   alpha=1.0  n=1000  p=0.05  r=0.2    0.963758  0.957740  0.956305   tokens   \n",
       "2   alpha=1.0  n=1000   p=0.1  r=0.1    0.916806  0.906320  0.907884   tokens   \n",
       "3   alpha=1.0  n=1000   p=0.1  r=0.2    0.992022  0.993386  0.993947   tokens   \n",
       "4   alpha=1.0  n=1000  p=0.25  r=0.1    0.985527  0.990380  0.972858   tokens   \n",
       "..        ...     ...     ...    ...         ...       ...       ...      ...   \n",
       "79  alpha=2.0   n=500  p=0.05  r=0.2    0.987421  0.994967       NaN   graphs   \n",
       "80  alpha=2.0   n=500   p=0.1  r=0.1    0.986146  0.958328       NaN   graphs   \n",
       "81  alpha=2.0   n=500   p=0.1  r=0.2    0.970912  0.977195       NaN   graphs   \n",
       "82  alpha=2.0   n=500  p=0.25  r=0.1    0.992470  0.991222       NaN   graphs   \n",
       "83  alpha=2.0   n=500  p=0.25  r=0.2    0.974658  0.829515       NaN   graphs   \n",
       "\n",
       "         wlk  \n",
       "0        NaN  \n",
       "1        NaN  \n",
       "2        NaN  \n",
       "3        NaN  \n",
       "4        NaN  \n",
       "..       ...  \n",
       "79  0.995577  \n",
       "80  0.953817  \n",
       "81  0.966396  \n",
       "82  0.946094  \n",
       "83  0.969199  \n",
       "\n",
       "[168 rows x 9 columns]"
      ]
     },
     "execution_count": 82,
     "metadata": {},
     "output_type": "execute_result"
    }
   ],
   "source": [
    "def all_metric_by_param(metrics, param: str, methods):\n",
    "    std = metrics.groupby(param).std()\n",
    "    table = metrics.groupby(param).mean()\n",
    "    means = table[methods].values\n",
    "    bold_max = np.argmax(means, axis=1)\n",
    "    for m in methods:\n",
    "        table[m] = table[m].map(\"{:.3f}\".format) + \" ± \" + std[m].map(\"{:.3f}\".format)\n",
    "    vals = table[methods].values\n",
    "    for row, col in enumerate(bold_max):\n",
    "        vals[row, col] = \"\\textbf{\" + table[methods].values[row, col] + \"}\"\n",
    "    table[methods] = vals\n",
    "    return table"
   ]
  },
  {
   "cell_type": "code",
   "execution_count": 79,
   "metadata": {},
   "outputs": [
    {
     "data": {
      "text/html": [
       "<div>\n",
       "<style scoped>\n",
       "    .dataframe tbody tr th:only-of-type {\n",
       "        vertical-align: middle;\n",
       "    }\n",
       "\n",
       "    .dataframe tbody tr th {\n",
       "        vertical-align: top;\n",
       "    }\n",
       "\n",
       "    .dataframe thead th {\n",
       "        text-align: right;\n",
       "    }\n",
       "</style>\n",
       "<table border=\"1\" class=\"dataframe\">\n",
       "  <thead>\n",
       "    <tr style=\"text-align: right;\">\n",
       "      <th></th>\n",
       "      <th>classifier</th>\n",
       "      <th>encoder</th>\n",
       "      <th>gst</th>\n",
       "    </tr>\n",
       "    <tr>\n",
       "      <th>p</th>\n",
       "      <th></th>\n",
       "      <th></th>\n",
       "      <th></th>\n",
       "    </tr>\n",
       "  </thead>\n",
       "  <tbody>\n",
       "    <tr>\n",
       "      <th>p=0.05</th>\n",
       "      <td>0.952 ± 0.063</td>\n",
       "      <td>0.952 ± 0.057</td>\n",
       "      <td>\\textbf{0.953 ± 0.062}</td>\n",
       "    </tr>\n",
       "    <tr>\n",
       "      <th>p=0.1</th>\n",
       "      <td>\\textbf{0.957 ± 0.048}</td>\n",
       "      <td>0.948 ± 0.069</td>\n",
       "      <td>0.952 ± 0.046</td>\n",
       "    </tr>\n",
       "    <tr>\n",
       "      <th>p=0.25</th>\n",
       "      <td>\\textbf{0.957 ± 0.055}</td>\n",
       "      <td>0.956 ± 0.055</td>\n",
       "      <td>0.907 ± 0.094</td>\n",
       "    </tr>\n",
       "  </tbody>\n",
       "</table>\n",
       "</div>"
      ],
      "text/plain": [
       "                    classifier        encoder                     gst\n",
       "p                                                                    \n",
       "p=0.05           0.952 ± 0.063  0.952 ± 0.057  \\textbf{0.953 ± 0.062}\n",
       "p=0.1   \\textbf{0.957 ± 0.048}  0.948 ± 0.069           0.952 ± 0.046\n",
       "p=0.25  \\textbf{0.957 ± 0.055}  0.956 ± 0.055           0.907 ± 0.094"
      ]
     },
     "metadata": {},
     "output_type": "display_data"
    },
    {
     "data": {
      "text/html": [
       "<div>\n",
       "<style scoped>\n",
       "    .dataframe tbody tr th:only-of-type {\n",
       "        vertical-align: middle;\n",
       "    }\n",
       "\n",
       "    .dataframe tbody tr th {\n",
       "        vertical-align: top;\n",
       "    }\n",
       "\n",
       "    .dataframe thead th {\n",
       "        text-align: right;\n",
       "    }\n",
       "</style>\n",
       "<table border=\"1\" class=\"dataframe\">\n",
       "  <thead>\n",
       "    <tr style=\"text-align: right;\">\n",
       "      <th></th>\n",
       "      <th>classifier</th>\n",
       "      <th>encoder</th>\n",
       "      <th>gst</th>\n",
       "    </tr>\n",
       "    <tr>\n",
       "      <th>n</th>\n",
       "      <th></th>\n",
       "      <th></th>\n",
       "      <th></th>\n",
       "    </tr>\n",
       "  </thead>\n",
       "  <tbody>\n",
       "    <tr>\n",
       "      <th>n=1000</th>\n",
       "      <td>0.968 ± 0.038</td>\n",
       "      <td>\\textbf{0.969 ± 0.038}</td>\n",
       "      <td>0.953 ± 0.051</td>\n",
       "    </tr>\n",
       "    <tr>\n",
       "      <th>n=200</th>\n",
       "      <td>\\textbf{0.950 ± 0.051}</td>\n",
       "      <td>0.947 ± 0.047</td>\n",
       "      <td>0.931 ± 0.076</td>\n",
       "    </tr>\n",
       "    <tr>\n",
       "      <th>n=50</th>\n",
       "      <td>\\textbf{0.918 ± 0.077}</td>\n",
       "      <td>0.913 ± 0.091</td>\n",
       "      <td>0.898 ± 0.098</td>\n",
       "    </tr>\n",
       "    <tr>\n",
       "      <th>n=500</th>\n",
       "      <td>\\textbf{0.984 ± 0.014}</td>\n",
       "      <td>0.977 ± 0.020</td>\n",
       "      <td>0.967 ± 0.034</td>\n",
       "    </tr>\n",
       "  </tbody>\n",
       "</table>\n",
       "</div>"
      ],
      "text/plain": [
       "                    classifier                 encoder            gst\n",
       "n                                                                    \n",
       "n=1000           0.968 ± 0.038  \\textbf{0.969 ± 0.038}  0.953 ± 0.051\n",
       "n=200   \\textbf{0.950 ± 0.051}           0.947 ± 0.047  0.931 ± 0.076\n",
       "n=50    \\textbf{0.918 ± 0.077}           0.913 ± 0.091  0.898 ± 0.098\n",
       "n=500   \\textbf{0.984 ± 0.014}           0.977 ± 0.020  0.967 ± 0.034"
      ]
     },
     "metadata": {},
     "output_type": "display_data"
    },
    {
     "data": {
      "text/html": [
       "<div>\n",
       "<style scoped>\n",
       "    .dataframe tbody tr th:only-of-type {\n",
       "        vertical-align: middle;\n",
       "    }\n",
       "\n",
       "    .dataframe tbody tr th {\n",
       "        vertical-align: top;\n",
       "    }\n",
       "\n",
       "    .dataframe thead th {\n",
       "        text-align: right;\n",
       "    }\n",
       "</style>\n",
       "<table border=\"1\" class=\"dataframe\">\n",
       "  <thead>\n",
       "    <tr style=\"text-align: right;\">\n",
       "      <th></th>\n",
       "      <th>classifier</th>\n",
       "      <th>encoder</th>\n",
       "      <th>gst</th>\n",
       "    </tr>\n",
       "    <tr>\n",
       "      <th>r</th>\n",
       "      <th></th>\n",
       "      <th></th>\n",
       "      <th></th>\n",
       "    </tr>\n",
       "  </thead>\n",
       "  <tbody>\n",
       "    <tr>\n",
       "      <th>r=0.1</th>\n",
       "      <td>\\textbf{0.953 ± 0.053}</td>\n",
       "      <td>0.948 ± 0.052</td>\n",
       "      <td>0.938 ± 0.076</td>\n",
       "    </tr>\n",
       "    <tr>\n",
       "      <th>r=0.2</th>\n",
       "      <td>\\textbf{0.955 ± 0.059}</td>\n",
       "      <td>0.951 ± 0.070</td>\n",
       "      <td>0.932 ± 0.076</td>\n",
       "    </tr>\n",
       "    <tr>\n",
       "      <th>r=0.3</th>\n",
       "      <td>0.959 ± 0.055</td>\n",
       "      <td>\\textbf{0.963 ± 0.053}</td>\n",
       "      <td>0.951 ± 0.051</td>\n",
       "    </tr>\n",
       "  </tbody>\n",
       "</table>\n",
       "</div>"
      ],
      "text/plain": [
       "                   classifier                 encoder            gst\n",
       "r                                                                   \n",
       "r=0.1  \\textbf{0.953 ± 0.053}           0.948 ± 0.052  0.938 ± 0.076\n",
       "r=0.2  \\textbf{0.955 ± 0.059}           0.951 ± 0.070  0.932 ± 0.076\n",
       "r=0.3           0.959 ± 0.055  \\textbf{0.963 ± 0.053}  0.951 ± 0.051"
      ]
     },
     "metadata": {},
     "output_type": "display_data"
    },
    {
     "data": {
      "text/html": [
       "<div>\n",
       "<style scoped>\n",
       "    .dataframe tbody tr th:only-of-type {\n",
       "        vertical-align: middle;\n",
       "    }\n",
       "\n",
       "    .dataframe tbody tr th {\n",
       "        vertical-align: top;\n",
       "    }\n",
       "\n",
       "    .dataframe thead th {\n",
       "        text-align: right;\n",
       "    }\n",
       "</style>\n",
       "<table border=\"1\" class=\"dataframe\">\n",
       "  <thead>\n",
       "    <tr style=\"text-align: right;\">\n",
       "      <th></th>\n",
       "      <th>classifier</th>\n",
       "      <th>encoder</th>\n",
       "      <th>gst</th>\n",
       "    </tr>\n",
       "    <tr>\n",
       "      <th>alpha</th>\n",
       "      <th></th>\n",
       "      <th></th>\n",
       "      <th></th>\n",
       "    </tr>\n",
       "  </thead>\n",
       "  <tbody>\n",
       "    <tr>\n",
       "      <th>alpha=1.0</th>\n",
       "      <td>\\textbf{0.944 ± 0.039}</td>\n",
       "      <td>0.941 ± 0.044</td>\n",
       "      <td>0.920 ± 0.065</td>\n",
       "    </tr>\n",
       "    <tr>\n",
       "      <th>alpha=1.5</th>\n",
       "      <td>\\textbf{0.953 ± 0.069}</td>\n",
       "      <td>0.951 ± 0.078</td>\n",
       "      <td>0.944 ± 0.078</td>\n",
       "    </tr>\n",
       "    <tr>\n",
       "      <th>alpha=2.0</th>\n",
       "      <td>\\textbf{0.968 ± 0.045}</td>\n",
       "      <td>0.964 ± 0.041</td>\n",
       "      <td>0.944 ± 0.071</td>\n",
       "    </tr>\n",
       "  </tbody>\n",
       "</table>\n",
       "</div>"
      ],
      "text/plain": [
       "                       classifier        encoder            gst\n",
       "alpha                                                          \n",
       "alpha=1.0  \\textbf{0.944 ± 0.039}  0.941 ± 0.044  0.920 ± 0.065\n",
       "alpha=1.5  \\textbf{0.953 ± 0.069}  0.951 ± 0.078  0.944 ± 0.078\n",
       "alpha=2.0  \\textbf{0.968 ± 0.045}  0.964 ± 0.041  0.944 ± 0.071"
      ]
     },
     "metadata": {},
     "output_type": "display_data"
    },
    {
     "data": {
      "text/html": [
       "<div>\n",
       "<style scoped>\n",
       "    .dataframe tbody tr th:only-of-type {\n",
       "        vertical-align: middle;\n",
       "    }\n",
       "\n",
       "    .dataframe tbody tr th {\n",
       "        vertical-align: top;\n",
       "    }\n",
       "\n",
       "    .dataframe thead th {\n",
       "        text-align: right;\n",
       "    }\n",
       "</style>\n",
       "<table border=\"1\" class=\"dataframe\">\n",
       "  <thead>\n",
       "    <tr style=\"text-align: right;\">\n",
       "      <th></th>\n",
       "      <th>classifier</th>\n",
       "      <th>encoder</th>\n",
       "      <th>wlk</th>\n",
       "    </tr>\n",
       "    <tr>\n",
       "      <th>p</th>\n",
       "      <th></th>\n",
       "      <th></th>\n",
       "      <th></th>\n",
       "    </tr>\n",
       "  </thead>\n",
       "  <tbody>\n",
       "    <tr>\n",
       "      <th>p=0.05</th>\n",
       "      <td>0.938 ± 0.071</td>\n",
       "      <td>0.933 ± 0.074</td>\n",
       "      <td>\\textbf{0.944 ± 0.071}</td>\n",
       "    </tr>\n",
       "    <tr>\n",
       "      <th>p=0.1</th>\n",
       "      <td>\\textbf{0.956 ± 0.054}</td>\n",
       "      <td>0.941 ± 0.053</td>\n",
       "      <td>0.949 ± 0.051</td>\n",
       "    </tr>\n",
       "    <tr>\n",
       "      <th>p=0.25</th>\n",
       "      <td>\\textbf{0.945 ± 0.069}</td>\n",
       "      <td>0.907 ± 0.101</td>\n",
       "      <td>0.908 ± 0.107</td>\n",
       "    </tr>\n",
       "  </tbody>\n",
       "</table>\n",
       "</div>"
      ],
      "text/plain": [
       "                    classifier        encoder                     wlk\n",
       "p                                                                    \n",
       "p=0.05           0.938 ± 0.071  0.933 ± 0.074  \\textbf{0.944 ± 0.071}\n",
       "p=0.1   \\textbf{0.956 ± 0.054}  0.941 ± 0.053           0.949 ± 0.051\n",
       "p=0.25  \\textbf{0.945 ± 0.069}  0.907 ± 0.101           0.908 ± 0.107"
      ]
     },
     "metadata": {},
     "output_type": "display_data"
    },
    {
     "data": {
      "text/html": [
       "<div>\n",
       "<style scoped>\n",
       "    .dataframe tbody tr th:only-of-type {\n",
       "        vertical-align: middle;\n",
       "    }\n",
       "\n",
       "    .dataframe tbody tr th {\n",
       "        vertical-align: top;\n",
       "    }\n",
       "\n",
       "    .dataframe thead th {\n",
       "        text-align: right;\n",
       "    }\n",
       "</style>\n",
       "<table border=\"1\" class=\"dataframe\">\n",
       "  <thead>\n",
       "    <tr style=\"text-align: right;\">\n",
       "      <th></th>\n",
       "      <th>classifier</th>\n",
       "      <th>encoder</th>\n",
       "      <th>wlk</th>\n",
       "    </tr>\n",
       "    <tr>\n",
       "      <th>n</th>\n",
       "      <th></th>\n",
       "      <th></th>\n",
       "      <th></th>\n",
       "    </tr>\n",
       "  </thead>\n",
       "  <tbody>\n",
       "    <tr>\n",
       "      <th>n=1000</th>\n",
       "      <td>\\textbf{0.974 ± 0.027}</td>\n",
       "      <td>0.960 ± 0.044</td>\n",
       "      <td>0.966 ± 0.040</td>\n",
       "    </tr>\n",
       "    <tr>\n",
       "      <th>n=200</th>\n",
       "      <td>\\textbf{0.943 ± 0.053}</td>\n",
       "      <td>0.931 ± 0.051</td>\n",
       "      <td>0.923 ± 0.092</td>\n",
       "    </tr>\n",
       "    <tr>\n",
       "      <th>n=50</th>\n",
       "      <td>\\textbf{0.889 ± 0.090}</td>\n",
       "      <td>0.865 ± 0.116</td>\n",
       "      <td>0.884 ± 0.105</td>\n",
       "    </tr>\n",
       "    <tr>\n",
       "      <th>n=500</th>\n",
       "      <td>\\textbf{0.979 ± 0.017}</td>\n",
       "      <td>0.953 ± 0.045</td>\n",
       "      <td>0.962 ± 0.036</td>\n",
       "    </tr>\n",
       "  </tbody>\n",
       "</table>\n",
       "</div>"
      ],
      "text/plain": [
       "                    classifier        encoder            wlk\n",
       "n                                                           \n",
       "n=1000  \\textbf{0.974 ± 0.027}  0.960 ± 0.044  0.966 ± 0.040\n",
       "n=200   \\textbf{0.943 ± 0.053}  0.931 ± 0.051  0.923 ± 0.092\n",
       "n=50    \\textbf{0.889 ± 0.090}  0.865 ± 0.116  0.884 ± 0.105\n",
       "n=500   \\textbf{0.979 ± 0.017}  0.953 ± 0.045  0.962 ± 0.036"
      ]
     },
     "metadata": {},
     "output_type": "display_data"
    },
    {
     "data": {
      "text/html": [
       "<div>\n",
       "<style scoped>\n",
       "    .dataframe tbody tr th:only-of-type {\n",
       "        vertical-align: middle;\n",
       "    }\n",
       "\n",
       "    .dataframe tbody tr th {\n",
       "        vertical-align: top;\n",
       "    }\n",
       "\n",
       "    .dataframe thead th {\n",
       "        text-align: right;\n",
       "    }\n",
       "</style>\n",
       "<table border=\"1\" class=\"dataframe\">\n",
       "  <thead>\n",
       "    <tr style=\"text-align: right;\">\n",
       "      <th></th>\n",
       "      <th>classifier</th>\n",
       "      <th>encoder</th>\n",
       "      <th>wlk</th>\n",
       "    </tr>\n",
       "    <tr>\n",
       "      <th>r</th>\n",
       "      <th></th>\n",
       "      <th></th>\n",
       "      <th></th>\n",
       "    </tr>\n",
       "  </thead>\n",
       "  <tbody>\n",
       "    <tr>\n",
       "      <th>r=0.1</th>\n",
       "      <td>\\textbf{0.947 ± 0.061}</td>\n",
       "      <td>0.929 ± 0.084</td>\n",
       "      <td>0.936 ± 0.085</td>\n",
       "    </tr>\n",
       "    <tr>\n",
       "      <th>r=0.2</th>\n",
       "      <td>\\textbf{0.944 ± 0.075}</td>\n",
       "      <td>0.924 ± 0.082</td>\n",
       "      <td>0.930 ± 0.079</td>\n",
       "    </tr>\n",
       "    <tr>\n",
       "      <th>r=0.3</th>\n",
       "      <td>\\textbf{0.952 ± 0.043}</td>\n",
       "      <td>0.932 ± 0.055</td>\n",
       "      <td>0.940 ± 0.080</td>\n",
       "    </tr>\n",
       "  </tbody>\n",
       "</table>\n",
       "</div>"
      ],
      "text/plain": [
       "                   classifier        encoder            wlk\n",
       "r                                                          \n",
       "r=0.1  \\textbf{0.947 ± 0.061}  0.929 ± 0.084  0.936 ± 0.085\n",
       "r=0.2  \\textbf{0.944 ± 0.075}  0.924 ± 0.082  0.930 ± 0.079\n",
       "r=0.3  \\textbf{0.952 ± 0.043}  0.932 ± 0.055  0.940 ± 0.080"
      ]
     },
     "metadata": {},
     "output_type": "display_data"
    },
    {
     "data": {
      "text/html": [
       "<div>\n",
       "<style scoped>\n",
       "    .dataframe tbody tr th:only-of-type {\n",
       "        vertical-align: middle;\n",
       "    }\n",
       "\n",
       "    .dataframe tbody tr th {\n",
       "        vertical-align: top;\n",
       "    }\n",
       "\n",
       "    .dataframe thead th {\n",
       "        text-align: right;\n",
       "    }\n",
       "</style>\n",
       "<table border=\"1\" class=\"dataframe\">\n",
       "  <thead>\n",
       "    <tr style=\"text-align: right;\">\n",
       "      <th></th>\n",
       "      <th>classifier</th>\n",
       "      <th>encoder</th>\n",
       "      <th>wlk</th>\n",
       "    </tr>\n",
       "    <tr>\n",
       "      <th>alpha</th>\n",
       "      <th></th>\n",
       "      <th></th>\n",
       "      <th></th>\n",
       "    </tr>\n",
       "  </thead>\n",
       "  <tbody>\n",
       "    <tr>\n",
       "      <th>alpha=1.0</th>\n",
       "      <td>\\textbf{0.934 ± 0.052}</td>\n",
       "      <td>0.903 ± 0.068</td>\n",
       "      <td>0.918 ± 0.053</td>\n",
       "    </tr>\n",
       "    <tr>\n",
       "      <th>alpha=1.5</th>\n",
       "      <td>\\textbf{0.947 ± 0.076}</td>\n",
       "      <td>0.937 ± 0.073</td>\n",
       "      <td>0.938 ± 0.094</td>\n",
       "    </tr>\n",
       "    <tr>\n",
       "      <th>alpha=2.0</th>\n",
       "      <td>\\textbf{0.958 ± 0.057}</td>\n",
       "      <td>0.936 ± 0.095</td>\n",
       "      <td>0.944 ± 0.083</td>\n",
       "    </tr>\n",
       "  </tbody>\n",
       "</table>\n",
       "</div>"
      ],
      "text/plain": [
       "                       classifier        encoder            wlk\n",
       "alpha                                                          \n",
       "alpha=1.0  \\textbf{0.934 ± 0.052}  0.903 ± 0.068  0.918 ± 0.053\n",
       "alpha=1.5  \\textbf{0.947 ± 0.076}  0.937 ± 0.073  0.938 ± 0.094\n",
       "alpha=2.0  \\textbf{0.958 ± 0.057}  0.936 ± 0.095  0.944 ± 0.083"
      ]
     },
     "metadata": {},
     "output_type": "display_data"
    }
   ],
   "source": [
    "metric_by_all_params(token_metrics, token_similarity_cols)\n",
    "metric_by_all_params(graph_metrics,  graph_similarity_cols)"
   ]
  },
  {
   "cell_type": "code",
   "execution_count": 80,
   "metadata": {},
   "outputs": [
    {
     "name": "stdout",
     "output_type": "stream",
     "text": [
      "\n",
      "%%%%% p %%%%%\n",
      "\n",
      "\n",
      "\\begin{table}\n",
      "\\caption{}\n",
      "\\label{table:tokens_results_p}\n",
      "\\centering\n",
      "\\begin{tabular}{l|rrr}\n",
      "\\toprule\n",
      "{} &              classifier &        encoder &                     gst \\\\\n",
      "p      &                         &                &                         \\\\\n",
      "\\midrule\n",
      "p=0.05 &           0.952 ± 0.063 &  0.952 ± 0.057 &  \\textbf{0.953 ± 0.062} \\\\\n",
      "p=0.1  &  \\textbf{0.957 ± 0.048} &  0.948 ± 0.069 &           0.952 ± 0.046 \\\\\n",
      "p=0.25 &  \\textbf{0.957 ± 0.055} &  0.956 ± 0.055 &           0.907 ± 0.094 \\\\\n",
      "\\bottomrule\n",
      "\\end{tabular}\n",
      "\\end{table}\n",
      "\n",
      "\n",
      "\n",
      "\\begin{table}\n",
      "\\caption{}\n",
      "\\label{table:graphs_results_p}\n",
      "\\centering\n",
      "\\begin{tabular}{l|rrr}\n",
      "\\toprule\n",
      "{} &              classifier &        encoder &                     wlk \\\\\n",
      "p      &                         &                &                         \\\\\n",
      "\\midrule\n",
      "p=0.05 &           0.938 ± 0.071 &  0.933 ± 0.074 &  \\textbf{0.944 ± 0.071} \\\\\n",
      "p=0.1  &  \\textbf{0.956 ± 0.054} &  0.941 ± 0.053 &           0.949 ± 0.051 \\\\\n",
      "p=0.25 &  \\textbf{0.945 ± 0.069} &  0.907 ± 0.101 &           0.908 ± 0.107 \\\\\n",
      "\\bottomrule\n",
      "\\end{tabular}\n",
      "\\end{table}\n",
      "\n",
      "%%%%% alpha %%%%%\n",
      "\n",
      "\n",
      "\\begin{table}\n",
      "\\caption{}\n",
      "\\label{table:tokens_results_alpha}\n",
      "\\centering\n",
      "\\begin{tabular}{l|rrr}\n",
      "\\toprule\n",
      "{} &              classifier &        encoder &            gst \\\\\n",
      "alpha     &                         &                &                \\\\\n",
      "\\midrule\n",
      "alpha=1.0 &  \\textbf{0.944 ± 0.039} &  0.941 ± 0.044 &  0.920 ± 0.065 \\\\\n",
      "alpha=1.5 &  \\textbf{0.953 ± 0.069} &  0.951 ± 0.078 &  0.944 ± 0.078 \\\\\n",
      "alpha=2.0 &  \\textbf{0.968 ± 0.045} &  0.964 ± 0.041 &  0.944 ± 0.071 \\\\\n",
      "\\bottomrule\n",
      "\\end{tabular}\n",
      "\\end{table}\n",
      "\n",
      "\n",
      "\n",
      "\\begin{table}\n",
      "\\caption{}\n",
      "\\label{table:graphs_results_alpha}\n",
      "\\centering\n",
      "\\begin{tabular}{l|rrr}\n",
      "\\toprule\n",
      "{} &              classifier &        encoder &            wlk \\\\\n",
      "alpha     &                         &                &                \\\\\n",
      "\\midrule\n",
      "alpha=1.0 &  \\textbf{0.934 ± 0.052} &  0.903 ± 0.068 &  0.918 ± 0.053 \\\\\n",
      "alpha=1.5 &  \\textbf{0.947 ± 0.076} &  0.937 ± 0.073 &  0.938 ± 0.094 \\\\\n",
      "alpha=2.0 &  \\textbf{0.958 ± 0.057} &  0.936 ± 0.095 &  0.944 ± 0.083 \\\\\n",
      "\\bottomrule\n",
      "\\end{tabular}\n",
      "\\end{table}\n",
      "\n",
      "%%%%% r %%%%%\n",
      "\n",
      "\n",
      "\\begin{table}\n",
      "\\caption{}\n",
      "\\label{table:tokens_results_r}\n",
      "\\centering\n",
      "\\begin{tabular}{l|rrr}\n",
      "\\toprule\n",
      "{} &              classifier &                 encoder &            gst \\\\\n",
      "r     &                         &                         &                \\\\\n",
      "\\midrule\n",
      "r=0.1 &  \\textbf{0.953 ± 0.053} &           0.948 ± 0.052 &  0.938 ± 0.076 \\\\\n",
      "r=0.2 &  \\textbf{0.955 ± 0.059} &           0.951 ± 0.070 &  0.932 ± 0.076 \\\\\n",
      "r=0.3 &           0.959 ± 0.055 &  \\textbf{0.963 ± 0.053} &  0.951 ± 0.051 \\\\\n",
      "\\bottomrule\n",
      "\\end{tabular}\n",
      "\\end{table}\n",
      "\n",
      "\n",
      "\n",
      "\\begin{table}\n",
      "\\caption{}\n",
      "\\label{table:graphs_results_r}\n",
      "\\centering\n",
      "\\begin{tabular}{l|rrr}\n",
      "\\toprule\n",
      "{} &              classifier &        encoder &            wlk \\\\\n",
      "r     &                         &                &                \\\\\n",
      "\\midrule\n",
      "r=0.1 &  \\textbf{0.947 ± 0.061} &  0.929 ± 0.084 &  0.936 ± 0.085 \\\\\n",
      "r=0.2 &  \\textbf{0.944 ± 0.075} &  0.924 ± 0.082 &  0.930 ± 0.079 \\\\\n",
      "r=0.3 &  \\textbf{0.952 ± 0.043} &  0.932 ± 0.055 &  0.940 ± 0.080 \\\\\n",
      "\\bottomrule\n",
      "\\end{tabular}\n",
      "\\end{table}\n",
      "\n",
      "%%%%% n %%%%%\n",
      "\n",
      "\n",
      "\\begin{table}\n",
      "\\caption{}\n",
      "\\label{table:tokens_results_n}\n",
      "\\centering\n",
      "\\begin{tabular}{l|rrr}\n",
      "\\toprule\n",
      "{} &              classifier &                 encoder &            gst \\\\\n",
      "n      &                         &                         &                \\\\\n",
      "\\midrule\n",
      "n=1000 &           0.968 ± 0.038 &  \\textbf{0.969 ± 0.038} &  0.953 ± 0.051 \\\\\n",
      "n=200  &  \\textbf{0.950 ± 0.051} &           0.947 ± 0.047 &  0.931 ± 0.076 \\\\\n",
      "n=50   &  \\textbf{0.918 ± 0.077} &           0.913 ± 0.091 &  0.898 ± 0.098 \\\\\n",
      "n=500  &  \\textbf{0.984 ± 0.014} &           0.977 ± 0.020 &  0.967 ± 0.034 \\\\\n",
      "\\bottomrule\n",
      "\\end{tabular}\n",
      "\\end{table}\n",
      "\n",
      "\n",
      "\n",
      "\\begin{table}\n",
      "\\caption{}\n",
      "\\label{table:graphs_results_n}\n",
      "\\centering\n",
      "\\begin{tabular}{l|rrr}\n",
      "\\toprule\n",
      "{} &              classifier &        encoder &            wlk \\\\\n",
      "n      &                         &                &                \\\\\n",
      "\\midrule\n",
      "n=1000 &  \\textbf{0.974 ± 0.027} &  0.960 ± 0.044 &  0.966 ± 0.040 \\\\\n",
      "n=200  &  \\textbf{0.943 ± 0.053} &  0.931 ± 0.051 &  0.923 ± 0.092 \\\\\n",
      "n=50   &  \\textbf{0.889 ± 0.090} &  0.865 ± 0.116 &  0.884 ± 0.105 \\\\\n",
      "n=500  &  \\textbf{0.979 ± 0.017} &  0.953 ± 0.045 &  0.962 ± 0.036 \\\\\n",
      "\\bottomrule\n",
      "\\end{tabular}\n",
      "\\end{table}\n"
     ]
    },
    {
     "name": "stderr",
     "output_type": "stream",
     "text": [
      "/tmp/ipykernel_121553/2061807076.py:10: FutureWarning: In future versions `DataFrame.to_latex` is expected to utilise the base implementation of `Styler.to_latex` for formatting and rendering. The arguments signature may therefore change. It is recommended instead to use `DataFrame.style.to_latex` which also contains additional functionality.\n",
      "  table = prefix + metric_by_param(token_metrics, param, token_similarity_cols).to_latex(escape=False) + suffix\n",
      "/tmp/ipykernel_121553/2061807076.py:14: FutureWarning: In future versions `DataFrame.to_latex` is expected to utilise the base implementation of `Styler.to_latex` for formatting and rendering. The arguments signature may therefore change. It is recommended instead to use `DataFrame.style.to_latex` which also contains additional functionality.\n",
      "  table = prefix + metric_by_param(graph_metrics, param, graph_similarity_cols).to_latex(escape=False) + suffix\n",
      "/tmp/ipykernel_121553/2061807076.py:10: FutureWarning: In future versions `DataFrame.to_latex` is expected to utilise the base implementation of `Styler.to_latex` for formatting and rendering. The arguments signature may therefore change. It is recommended instead to use `DataFrame.style.to_latex` which also contains additional functionality.\n",
      "  table = prefix + metric_by_param(token_metrics, param, token_similarity_cols).to_latex(escape=False) + suffix\n",
      "/tmp/ipykernel_121553/2061807076.py:14: FutureWarning: In future versions `DataFrame.to_latex` is expected to utilise the base implementation of `Styler.to_latex` for formatting and rendering. The arguments signature may therefore change. It is recommended instead to use `DataFrame.style.to_latex` which also contains additional functionality.\n",
      "  table = prefix + metric_by_param(graph_metrics, param, graph_similarity_cols).to_latex(escape=False) + suffix\n",
      "/tmp/ipykernel_121553/2061807076.py:10: FutureWarning: In future versions `DataFrame.to_latex` is expected to utilise the base implementation of `Styler.to_latex` for formatting and rendering. The arguments signature may therefore change. It is recommended instead to use `DataFrame.style.to_latex` which also contains additional functionality.\n",
      "  table = prefix + metric_by_param(token_metrics, param, token_similarity_cols).to_latex(escape=False) + suffix\n",
      "/tmp/ipykernel_121553/2061807076.py:14: FutureWarning: In future versions `DataFrame.to_latex` is expected to utilise the base implementation of `Styler.to_latex` for formatting and rendering. The arguments signature may therefore change. It is recommended instead to use `DataFrame.style.to_latex` which also contains additional functionality.\n",
      "  table = prefix + metric_by_param(graph_metrics, param, graph_similarity_cols).to_latex(escape=False) + suffix\n",
      "/tmp/ipykernel_121553/2061807076.py:10: FutureWarning: In future versions `DataFrame.to_latex` is expected to utilise the base implementation of `Styler.to_latex` for formatting and rendering. The arguments signature may therefore change. It is recommended instead to use `DataFrame.style.to_latex` which also contains additional functionality.\n",
      "  table = prefix + metric_by_param(token_metrics, param, token_similarity_cols).to_latex(escape=False) + suffix\n",
      "/tmp/ipykernel_121553/2061807076.py:14: FutureWarning: In future versions `DataFrame.to_latex` is expected to utilise the base implementation of `Styler.to_latex` for formatting and rendering. The arguments signature may therefore change. It is recommended instead to use `DataFrame.style.to_latex` which also contains additional functionality.\n",
      "  table = prefix + metric_by_param(graph_metrics, param, graph_similarity_cols).to_latex(escape=False) + suffix\n"
     ]
    }
   ],
   "source": [
    "param = \"p\"\n",
    "def prefix_format(method, param):\n",
    "    return \"\\\\begin{table}\\n\\\\caption{}\\n\\\\label{table:\" + method + \"_results_\" + param + \"}\\n\\\\centering\\n\"\n",
    "\n",
    "suffix = \"\\\\end{table}\"\n",
    "\n",
    "for param in [\"p\", \"alpha\", \"r\", \"n\"]:\n",
    "    print(f\"\\n%%%%% {param} %%%%%\\n\\n\")\n",
    "    prefix = prefix_format(\"tokens\", param)\n",
    "    table = prefix + metric_by_param(token_metrics, param, token_similarity_cols).to_latex(escape=False) + suffix\n",
    "    print(table.replace(\"llll\", \"l|rrr\"))\n",
    "    print(\"\\n\\n\")\n",
    "    prefix = prefix_format(\"graphs\", param)\n",
    "    table = prefix + metric_by_param(graph_metrics, param, graph_similarity_cols).to_latex(escape=False) + suffix\n",
    "    print(table.replace(\"llll\", \"l|rrr\"))"
   ]
  },
  {
   "cell_type": "code",
   "execution_count": 30,
   "metadata": {},
   "outputs": [],
   "source": [
    "def eer_thr(y_true, y_pred):\n",
    "    fpr, tpr, threshold = roc_curve(y_true, y_pred, pos_label=1)\n",
    "    fnr = 1 - tpr\n",
    "    return threshold[np.nanargmin(np.absolute((fnr - fpr)))]\n"
   ]
  },
  {
   "cell_type": "code",
   "execution_count": 31,
   "metadata": {},
   "outputs": [],
   "source": [
    "def eer_thr_by_set(results_df, method):\n",
    "    ret = results_df.groupby(\"set\").apply(lambda sub_df: eer_thr(sub_df[\"clone\"], sub_df[method])).to_frame().reset_index()\n",
    "    ret = ret.rename(columns={0: method})\n",
    "    return ret\n",
    "\n",
    "def eer_thr_all(results_df, method):\n",
    "    return eer_thr(results_df[\"clone\"], results_df[method])"
   ]
  },
  {
   "cell_type": "code",
   "execution_count": 32,
   "metadata": {},
   "outputs": [
    {
     "data": {
      "text/plain": [
       "0.1616915422885572"
      ]
     },
     "execution_count": 32,
     "metadata": {},
     "output_type": "execute_result"
    }
   ],
   "source": [
    "eer_thr_all(token_results, \"gst\")"
   ]
  },
  {
   "cell_type": "code",
   "execution_count": 33,
   "metadata": {},
   "outputs": [
    {
     "name": "stdout",
     "output_type": "stream",
     "text": [
      "classifier 0.615779397987862\n",
      "encoder 0.5896612492657138\n",
      "gst 0.5285121180937511\n",
      "classifier 0.5623531195512091\n",
      "encoder 0.5238357723288111\n",
      "wlk 0.512406796235179\n"
     ]
    }
   ],
   "source": [
    "def precision(results_df, methods):\n",
    "    for m in methods:\n",
    "        print(m, f1_score(\n",
    "            results_df[\"clone\"],\n",
    "            results_df[m] > eer_thr_all(results_df, m)\n",
    "            ))\n",
    "\n",
    "precision(token_results, token_similarity_cols)\n",
    "precision(graph_results, graph_similarity_cols)"
   ]
  },
  {
   "cell_type": "code",
   "execution_count": 34,
   "metadata": {},
   "outputs": [],
   "source": [
    "def plot_roc(results_df, method):\n",
    "    fpr, tpr, _ = roc_curve(results_df[\"clone\"], results_df[method])\n",
    "    return sns.lineplot(x=fpr, y=tpr)\n"
   ]
  },
  {
   "cell_type": "code",
   "execution_count": 35,
   "metadata": {},
   "outputs": [
    {
     "data": {
      "text/plain": [
       "<AxesSubplot:>"
      ]
     },
     "execution_count": 35,
     "metadata": {},
     "output_type": "execute_result"
    },
    {
     "data": {
      "image/png": "[encoded data removed]",
      "text/plain": [
       "<Figure size 432x288 with 1 Axes>"
      ]
     },
     "metadata": {
      "needs_background": "light"
     },
     "output_type": "display_data"
    }
   ],
   "source": [
    "plot_roc(token_results, \"encoder\")"
   ]
  },
  {
   "cell_type": "code",
   "execution_count": 36,
   "metadata": {},
   "outputs": [],
   "source": [
    "def accuracy_by_same_base(results_df, methods):\n",
    "    for m in methods:\n",
    "        eer_thr = eer_thr_all(results_df, m)\n",
    "        sub_df = results_df[results_df[\"clone\"] == 1]\n",
    "        sub_df1 = sub_df[sub_df[\"same_base\"] == 1]\n",
    "        sub_df2 = sub_df[sub_df[\"same_base\"] == 0]\n",
    "        print(m, \"same_base\", accuracy_score(\n",
    "            sub_df1[\"clone\"],\n",
    "            sub_df1[m] > eer_thr\n",
    "            ))\n",
    "        print(m, \"not same_base\", accuracy_score(\n",
    "            sub_df2[\"clone\"],\n",
    "            sub_df2[m] > eer_thr\n",
    "            ))\n"
   ]
  },
  {
   "cell_type": "code",
   "execution_count": 37,
   "metadata": {},
   "outputs": [
    {
     "name": "stdout",
     "output_type": "stream",
     "text": [
      "classifier same_base 0.9966159052453468\n",
      "classifier not same_base 0.44157303370786516\n",
      "encoder same_base 0.990321489001692\n",
      "encoder not same_base 0.47752808988764045\n",
      "gst same_base 0.9834179357021997\n",
      "gst not same_base 0.40898876404494383\n",
      "classifier same_base 0.9906042109594678\n",
      "classifier not same_base 0.42701525054466233\n",
      "encoder same_base 0.9827172347575612\n",
      "encoder not same_base 0.43681917211328974\n",
      "wlk same_base 0.987723750085728\n",
      "wlk not same_base 0.29411764705882354\n"
     ]
    }
   ],
   "source": [
    "accuracy_by_same_base(token_results, token_similarity_cols)\n",
    "accuracy_by_same_base(graph_results, graph_similarity_cols)"
   ]
  },
  {
   "cell_type": "code",
   "execution_count": 38,
   "metadata": {},
   "outputs": [
    {
     "data": {
      "text/plain": [
       "<AxesSubplot:xlabel='len_diff', ylabel='classifier'>"
      ]
     },
     "execution_count": 38,
     "metadata": {},
     "output_type": "execute_result"
    },
    {
     "data": {
      "image/png": "[encoded data removed]",
      "text/plain": [
       "<Figure size 432x288 with 1 Axes>"
      ]
     },
     "metadata": {
      "needs_background": "light"
     },
     "output_type": "display_data"
    }
   ],
   "source": [
    "sns.scatterplot(x=token_results[\"len_diff\"], y=token_results[\"classifier\"], hue=token_results[\"clone\"])"
   ]
  },
  {
   "cell_type": "code",
   "execution_count": 21,
   "metadata": {},
   "outputs": [],
   "source": [
    "sim = graph_results[\"wlk\"].values\n",
    "y = graph_results[\"clone\"].values"
   ]
  },
  {
   "cell_type": "code",
   "execution_count": 22,
   "metadata": {},
   "outputs": [
    {
     "name": "stderr",
     "output_type": "stream",
     "text": [
      "100%|███████████████████████████████████████████████████████████████████████████████████████████████████████████████████████████████████████████████████████████████████████████████████████████████████████████████| 1000/1000 [01:36<00:00, 10.38it/s]\n"
     ]
    },
    {
     "data": {
      "text/plain": [
       "0.9166334793574937"
      ]
     },
     "execution_count": 22,
     "metadata": {},
     "output_type": "execute_result"
    }
   ],
   "source": [
    "def best_f1(sim, y):\n",
    "    best_f = 0\n",
    "    for thr in tqdm(np.linspace(np.min(sim), np.max(sim), 1_000)):\n",
    "        pred = sim > thr\n",
    "        f = f1_score(y, pred)\n",
    "        if f > best_f:\n",
    "            best_f = f\n",
    "    return best_f\n",
    "\n",
    "best_f1(sim, y)"
   ]
  },
  {
   "cell_type": "code",
   "execution_count": 237,
   "metadata": {},
   "outputs": [
    {
     "data": {
      "text/plain": [
       "alpha      n       p     \n",
       "alpha=1.0  n=1000  p=0.05    6\n",
       "                   p=0.1     6\n",
       "alpha=1.5  n=50    p=0.25    6\n",
       "           n=500   p=0.05    6\n",
       "                   p=0.1     6\n",
       "                   p=0.25    6\n",
       "alpha=2.0  n=1000  p=0.05    6\n",
       "                   p=0.1     6\n",
       "                   p=0.25    6\n",
       "           n=200   p=0.05    6\n",
       "                   p=0.1     6\n",
       "                   p=0.25    6\n",
       "           n=50    p=0.05    6\n",
       "                   p=0.1     6\n",
       "                   p=0.25    6\n",
       "           n=500   p=0.05    6\n",
       "                   p=0.1     6\n",
       "alpha=1.5  n=50    p=0.1     6\n",
       "                   p=0.05    6\n",
       "           n=200   p=0.25    6\n",
       "alpha=1.0  n=50    p=0.25    6\n",
       "           n=1000  p=0.25    6\n",
       "           n=200   p=0.05    6\n",
       "                   p=0.1     6\n",
       "                   p=0.25    6\n",
       "           n=50    p=0.05    6\n",
       "                   p=0.1     6\n",
       "           n=500   p=0.05    6\n",
       "alpha=1.5  n=200   p=0.1     6\n",
       "alpha=1.0  n=500   p=0.1     6\n",
       "                   p=0.25    6\n",
       "alpha=1.5  n=1000  p=0.05    6\n",
       "                   p=0.1     6\n",
       "                   p=0.25    6\n",
       "           n=200   p=0.05    6\n",
       "alpha=2.0  n=500   p=0.25    6\n",
       "dtype: int64"
      ]
     },
     "execution_count": 237,
     "metadata": {},
     "output_type": "execute_result"
    }
   ],
   "source": [
    "all_metrics.query(\"r == 'r=0.3'\")[[\"alpha\", \"n\", \"p\"]].value_counts()"
   ]
  },
  {
   "cell_type": "code",
   "execution_count": 252,
   "metadata": {},
   "outputs": [
    {
     "name": "stdout",
     "output_type": "stream",
     "text": [
      "0.8595055863349276 0.09468755670992512 108\n"
     ]
    }
   ],
   "source": [
    "aps = []\n",
    "for group_name, group in token_results.groupby(\"set\"):\n",
    "    if \"/10\" not in group_name:\n",
    "        continue\n",
    "    aps.append(average_precision_score(group[\"clone\"], group[\"gst\"]))\n",
    "print(np.mean(aps), np.std(aps), len(aps))"
   ]
  },
  {
   "cell_type": "code",
   "execution_count": 254,
   "metadata": {},
   "outputs": [
    {
     "data": {
      "text/plain": [
       "0.9153238932682548"
      ]
     },
     "execution_count": 254,
     "metadata": {},
     "output_type": "execute_result"
    }
   ],
   "source": [
    "0.08666978305178732 / 0.09468755670992512"
   ]
  },
  {
   "cell_type": "code",
   "execution_count": null,
   "metadata": {},
   "outputs": [],
   "source": []
  }
 ],
 "metadata": {
  "interpreter": {
   "hash": "a6ddc3c7edd8991e61fffe4ff17b1a44d04658c0d9c09e42820537b55d6dea15"
  },
  "kernelspec": {
   "display_name": "Python 3 (ipykernel)",
   "language": "python",
   "name": "python3"
  },
  "language_info": {
   "codemirror_mode": {
    "name": "ipython",
    "version": 3
   },
   "file_extension": ".py",
   "mimetype": "text/x-python",
   "name": "python",
   "nbconvert_exporter": "python",
   "pygments_lexer": "ipython3",
   "version": "3.8.5"
  }
 },
 "nbformat": 4,
 "nbformat_minor": 2
}
